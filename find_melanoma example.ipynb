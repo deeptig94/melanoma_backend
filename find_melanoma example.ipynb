{
 "cells": [
  {
   "cell_type": "code",
   "execution_count": 2,
   "metadata": {},
   "outputs": [
    {
     "name": "stdout",
     "output_type": "stream",
     "text": [
      "\n",
      "\n",
      "Predictions:\n",
      "['non malignant', 'malignant']\n",
      "[ 0.34570268  0.65429735]\n"
     ]
    }
   ],
   "source": [
    "from get_prediction import get_prediction\n",
    "import matplotlib.image as mpimg\n",
    "import matplotlib.pyplot as plt\n",
    "# from pymodm import connect\n",
    "# from pymodm import MongoModel, fields\n",
    "from flask import Flask, request, jsonify\n",
    "\n",
    "\n",
    "class Melanoma:\n",
    "\n",
    "    \"\"\"\n",
    "    This class takes image inputs and detects whether or not the image is a healthy cell\n",
    "    or indicative of melanoma.\n",
    "    \"\"\"\n",
    "\n",
    "    def __init__(self, image='/images/malignant/ISIC_0011285.jpg'):\n",
    "        self.image = image\n",
    "        self.labels = []\n",
    "        self.predictions = []\n",
    "\n",
    "    def use_tf(self):\n",
    "        img = mpimg.imread(self.image)\n",
    "        (self.labels, self.predictions) = get_prediction(img)\n",
    "        print(\"\\n\\nPredictions:\")\n",
    "        print(self.labels)\n",
    "        print(self.predictions)\n",
    "\n",
    "    # def store_data(self):\n",
    "\n",
    "a = Melanoma()\n",
    "a.use_tf()"
   ]
  },
  {
   "cell_type": "code",
   "execution_count": null,
   "metadata": {},
   "outputs": [],
   "source": []
  }
 ],
 "metadata": {
  "kernelspec": {
   "display_name": "Python 2",
   "language": "python",
   "name": "python2"
  },
  "language_info": {
   "codemirror_mode": {
    "name": "ipython",
    "version": 2
   },
   "file_extension": ".py",
   "mimetype": "text/x-python",
   "name": "python",
   "nbconvert_exporter": "python",
   "pygments_lexer": "ipython2",
   "version": "2.7.12"
  }
 },
 "nbformat": 4,
 "nbformat_minor": 2
}
